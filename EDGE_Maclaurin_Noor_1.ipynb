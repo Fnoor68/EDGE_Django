{
  "nbformat": 4,
  "nbformat_minor": 0,
  "metadata": {
    "colab": {
      "provenance": [],
      "authorship_tag": "ABX9TyOAY7bmwVJ9Qo5S3MKfSvBv",
      "include_colab_link": true
    },
    "kernelspec": {
      "name": "python3",
      "display_name": "Python 3"
    },
    "language_info": {
      "name": "python"
    }
  },
  "cells": [
    {
      "cell_type": "markdown",
      "metadata": {
        "id": "view-in-github",
        "colab_type": "text"
      },
      "source": [
        "<a href=\"https://colab.research.google.com/github/Fnoor68/EDGE_Django/blob/main/EDGE_Maclaurin_Noor_1.ipynb\" target=\"_parent\"><img src=\"https://colab.research.google.com/assets/colab-badge.svg\" alt=\"Open In Colab\"/></a>"
      ]
    },
    {
      "cell_type": "code",
      "source": [
        "input_file = '/content/Input.txt'\n",
        "with open(input_file, 'r') as file:\n",
        "    x = float(file.readline().strip())\n",
        "    terms = int(file.readline().strip())"
      ],
      "metadata": {
        "id": "8AhQvglAAzPc"
      },
      "execution_count": null,
      "outputs": []
    },
    {
      "cell_type": "code",
      "execution_count": null,
      "metadata": {
        "colab": {
          "base_uri": "https://localhost:8080/"
        },
        "id": "MCn7A-2Rxt1E",
        "outputId": "ae89e6a1-0522-41d9-8bbd-3a243714e1a8"
      },
      "outputs": [
        {
          "output_type": "stream",
          "name": "stdout",
          "text": [
            "e^ 4.0 (for  1 terms ) =  1.0\n",
            "Truncation Error =  53.598150033144236 for  1 terms\n",
            "e^ 4.0 (for  2 terms ) =  5.0\n",
            "Truncation Error =  49.598150033144236 for  2 terms\n",
            "e^ 4.0 (for  3 terms ) =  13.0\n",
            "Truncation Error =  41.598150033144236 for  3 terms\n",
            "e^ 4.0 (for  4 terms ) =  23.666666666666664\n",
            "Truncation Error =  30.931483366477572 for  4 terms\n",
            "e^ 4.0 (for  5 terms ) =  34.33333333333333\n",
            "Truncation Error =  20.264816699810908 for  5 terms\n",
            "e^ 4.0 (for  6 terms ) =  42.86666666666666\n",
            "Truncation Error =  11.731483366477576 for  6 terms\n",
            "e^ 4.0 (for  7 terms ) =  48.55555555555555\n",
            "Truncation Error =  6.042594477588686 for  7 terms\n",
            "e^ 4.0 (for  8 terms ) =  51.8063492063492\n",
            "Truncation Error =  2.7918008267950327 for  8 terms\n",
            "e^ 4.0 (for  9 terms ) =  53.43174603174603\n",
            "Truncation Error =  1.166404001398206 for  9 terms\n",
            "e^ 4.0 (for  10 terms ) =  54.15414462081129\n",
            "Truncation Error =  0.4440054123329489 for  10 terms\n",
            "e^ 4.0 (for  11 terms ) =  54.44310405643739\n",
            "Truncation Error =  0.1550459767068446 for  11 terms\n",
            "e^ 4.0 (for  12 terms ) =  54.54818021484688\n",
            "Truncation Error =  0.04996981829735603 for  12 terms\n",
            "e^ 4.0 (for  13 terms ) =  54.583205600983376\n",
            "Truncation Error =  0.014944432160859833 for  13 terms\n",
            "e^ 4.0 (for  14 terms ) =  54.59398264287153\n",
            "Truncation Error =  0.004167390272705518 for  14 terms\n",
            "e^ 4.0 (for  15 terms ) =  54.59706179769672\n",
            "Truncation Error =  0.0010882354475185707 for  15 terms\n",
            "e^ 4.0 (for  16 terms ) =  54.5978829056501\n",
            "Truncation Error =  0.00026712749413349 for  16 terms\n",
            "e^ 4.0 (for  17 terms ) =  54.59808818263845\n",
            "Truncation Error =  6.185050578721984e-05 for  17 terms\n",
            "e^ 4.0 (for  18 terms ) =  54.598136483106295\n",
            "Truncation Error =  1.3550037941456594e-05 for  18 terms\n",
            "e^ 4.0 (for  19 terms ) =  54.598147216543595\n",
            "Truncation Error =  2.816600641608602e-06 for  19 terms\n"
          ]
        }
      ],
      "source": [
        "import math\n",
        "from math import factorial\n",
        "def e_x(x, terms):\n",
        "    sum = 0\n",
        "    for i in range(terms):\n",
        "      sum += (x ** i) / math.factorial(i)\n",
        "\n",
        "    return sum\n",
        "\n",
        "for n in range(1, terms):\n",
        "  print(\"e^\",x,\"(for \", n, \"terms\",\") = \", e_x(x, n))\n",
        "  print(\"Truncation Error = \", float(math.exp(x) - e_x(x, n)), \"for \", n, \"terms\")\n"
      ]
    },
    {
      "cell_type": "code",
      "source": [
        "output_file = '/content/output.txt'\n",
        "with open(output_file, 'w') as file:\n",
        "  for n in range(1, terms):\n",
        "    file.write(f\"e^ {x} (for {n} terms) = {e_x(x, n)}\\n\")\n",
        "    file.write(f\"Truncation Error = {float(math.exp(x) - e_x(x, n))} for {n} terms\\n\\n\")"
      ],
      "metadata": {
        "id": "JbgWRFqVBdkz"
      },
      "execution_count": null,
      "outputs": []
    },
    {
      "cell_type": "code",
      "source": [
        "import pandas as pd\n",
        "from math import e, factorial\n",
        "import numpy as np\n",
        "\n",
        "# Vectorized factorial for efficiency\n",
        "fac = np.vectorize(factorial)\n",
        "\n",
        "def e_x(x, terms):\n",
        "    \"\"\"Approximates e^x using a given number of terms of\n",
        "    the Maclaurin series.\n",
        "    \"\"\"\n",
        "    n = np.arange(terms)\n",
        "    return np.sum((x ** n) / fac(n))\n",
        "\n",
        "# Read input values from CSV\n",
        "input_df = pd.read_csv('https://raw.githubusercontent.com/Fnoor68/EDGE_Django/refs/heads/main/input.csv')\n",
        "\n",
        "# Initialize an empty list to store the results\n",
        "results = []\n",
        "\n",
        "# Iterate over each row in the input DataFrame\n",
        "for index, row in input_df.iterrows():\n",
        "    x = row['x']\n",
        "    terms = int(row['terms'])\n",
        "\n",
        "    # Calculate Maclaurin series sum and error\n",
        "    maclaurin_sum = e_x(x, terms)\n",
        "    actual_value = e ** x\n",
        "    error = actual_value - maclaurin_sum\n",
        "\n",
        "    # Append the results to the list\n",
        "    results.append({\n",
        "        'x': x,\n",
        "        'terms': terms,\n",
        "        'Maclaurin Sum': maclaurin_sum,\n",
        "        'Actual Value': actual_value,\n",
        "        'Error': error\n",
        "    })\n",
        "\n",
        "# Create a DataFrame from the results\n",
        "output_df = pd.DataFrame(results)\n",
        "\n",
        "# Write output to CSV\n",
        "output_df.to_csv('output.csv', index=False)\n",
        "\n",
        "print(\"Calculation complete. Results saved to output.csv.\")"
      ],
      "metadata": {
        "colab": {
          "base_uri": "https://localhost:8080/"
        },
        "id": "hPzJd2UeOOXq",
        "outputId": "6d323205-5342-42b3-b4ee-51b98722a4d5"
      },
      "execution_count": 1,
      "outputs": [
        {
          "output_type": "stream",
          "name": "stdout",
          "text": [
            "Calculation complete. Results saved to output.csv.\n"
          ]
        }
      ]
    }
  ]
}