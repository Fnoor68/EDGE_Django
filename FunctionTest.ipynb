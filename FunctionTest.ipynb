{
  "nbformat": 4,
  "nbformat_minor": 0,
  "metadata": {
    "colab": {
      "provenance": [],
      "authorship_tag": "ABX9TyMBE3aVSpTi3HlKgWzvxo32",
      "include_colab_link": true
    },
    "kernelspec": {
      "name": "python3",
      "display_name": "Python 3"
    },
    "language_info": {
      "name": "python"
    }
  },
  "cells": [
    {
      "cell_type": "markdown",
      "metadata": {
        "id": "view-in-github",
        "colab_type": "text"
      },
      "source": [
        "<a href=\"https://colab.research.google.com/github/Fnoor68/EDGE_Django/blob/main/FunctionTest.ipynb\" target=\"_parent\"><img src=\"https://colab.research.google.com/assets/colab-badge.svg\" alt=\"Open In Colab\"/></a>"
      ]
    },
    {
      "cell_type": "code",
      "execution_count": 1,
      "metadata": {
        "colab": {
          "base_uri": "https://localhost:8080/"
        },
        "id": "QaijjtzVK1Gv",
        "outputId": "96deb3fa-6ae7-4e0f-d66f-7d1d0b6958cf"
      },
      "outputs": [
        {
          "output_type": "stream",
          "name": "stdout",
          "text": [
            "Enter a number : 10\n",
            "Sum =  55.0\n"
          ]
        }
      ],
      "source": [
        "def SeriesSum(n):\n",
        "    sum = (n*(n+1))/2\n",
        "    return sum\n",
        "\n",
        "number = int(input(\"Enter a number : \"))\n",
        "print(\"Sum = \",SeriesSum(number))"
      ]
    }
  ]
}