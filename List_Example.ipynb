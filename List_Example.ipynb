{
  "nbformat": 4,
  "nbformat_minor": 0,
  "metadata": {
    "colab": {
      "provenance": [],
      "authorship_tag": "ABX9TyNO5B5w/FAXwFe1LX32Vjr6",
      "include_colab_link": true
    },
    "kernelspec": {
      "name": "python3",
      "display_name": "Python 3"
    },
    "language_info": {
      "name": "python"
    }
  },
  "cells": [
    {
      "cell_type": "markdown",
      "metadata": {
        "id": "view-in-github",
        "colab_type": "text"
      },
      "source": [
        "<a href=\"https://colab.research.google.com/github/Fnoor68/EDGE_Django/blob/main/List_Example.ipynb\" target=\"_parent\"><img src=\"https://colab.research.google.com/assets/colab-badge.svg\" alt=\"Open In Colab\"/></a>"
      ]
    },
    {
      "cell_type": "markdown",
      "source": [
        "Create a List:"
      ],
      "metadata": {
        "id": "UlMUfcOa5ET8"
      }
    },
    {
      "cell_type": "code",
      "execution_count": null,
      "metadata": {
        "colab": {
          "base_uri": "https://localhost:8080/"
        },
        "id": "iK9jE5y8z0_X",
        "outputId": "a97eb979-19db-4c29-c36c-2ebdab2d4906"
      },
      "outputs": [
        {
          "output_type": "stream",
          "name": "stdout",
          "text": [
            "['Gazi', 'Md.', 'Noor', 'Hossain']\n"
          ]
        }
      ],
      "source": [
        "mylist = ['Gazi','Md.','Noor','Hossain']\n",
        "print(mylist)"
      ]
    },
    {
      "cell_type": "markdown",
      "source": [
        "Using the list() constructor"
      ],
      "metadata": {
        "id": "HM-B-a5_4kaV"
      }
    },
    {
      "cell_type": "code",
      "source": [
        "thislist= list(('Gazi','Md.','Noor','Hossain'))\n",
        "\n",
        "print(thislist)"
      ],
      "metadata": {
        "colab": {
          "base_uri": "https://localhost:8080/"
        },
        "id": "epOAZSNJ1HIE",
        "outputId": "e13f412c-42c0-47ca-ee60-a18130f365f9"
      },
      "execution_count": null,
      "outputs": [
        {
          "output_type": "stream",
          "name": "stdout",
          "text": [
            "['Gazi', 'Md.', 'Noor', 'Hossain']\n"
          ]
        }
      ]
    },
    {
      "cell_type": "markdown",
      "source": [
        "Show 3rd item of the list:"
      ],
      "metadata": {
        "id": "PZJyuQCy4xEZ"
      }
    },
    {
      "cell_type": "code",
      "source": [
        "thislist= list(('Gazi','Md.','Noor','Hossain'))\n",
        "\n",
        "print(thislist[2])"
      ],
      "metadata": {
        "colab": {
          "base_uri": "https://localhost:8080/"
        },
        "id": "WtKm6_BY1wfz",
        "outputId": "9a9221ee-9bec-4d83-9b73-6f034af8978d"
      },
      "execution_count": null,
      "outputs": [
        {
          "output_type": "stream",
          "name": "stdout",
          "text": [
            "Noor\n"
          ]
        }
      ]
    },
    {
      "cell_type": "markdown",
      "source": [
        "Lists allow duplicate values:"
      ],
      "metadata": {
        "id": "Aff2DVgK2tmv"
      }
    },
    {
      "cell_type": "code",
      "source": [
        "thislist = ['Gazi','Md.','Noor','Hossain','Noor', 'Hossain']\n",
        "print(thislist)"
      ],
      "metadata": {
        "colab": {
          "base_uri": "https://localhost:8080/"
        },
        "id": "iFyE2tRn12zt",
        "outputId": "b56d2137-0ba3-425d-ef32-164a66fca5e8"
      },
      "execution_count": null,
      "outputs": [
        {
          "output_type": "stream",
          "name": "stdout",
          "text": [
            "['Gazi', 'Md.', 'Noor', 'Hossain', 'Noor', 'Hossain']\n"
          ]
        }
      ]
    },
    {
      "cell_type": "markdown",
      "source": [
        "Print the number of items in the list:\n"
      ],
      "metadata": {
        "id": "yiIc_raV2Qyo"
      }
    },
    {
      "cell_type": "code",
      "source": [
        "thislist= list(('Gazi','Md.','Noor','Hossain'))\n",
        "\n",
        "print(len(thislist))"
      ],
      "metadata": {
        "colab": {
          "base_uri": "https://localhost:8080/"
        },
        "id": "0XXvWDNx2rQl",
        "outputId": "a19e16df-361e-4fa6-8624-b478e65ce3aa"
      },
      "execution_count": null,
      "outputs": [
        {
          "output_type": "stream",
          "name": "stdout",
          "text": [
            "4\n"
          ]
        }
      ]
    },
    {
      "cell_type": "markdown",
      "source": [
        "String, int and boolean data types:"
      ],
      "metadata": {
        "id": "jwwJ4gtb3ATV"
      }
    },
    {
      "cell_type": "code",
      "source": [
        "list1 = ['Gazi','Md.','Noor','Hossain']\n",
        "list2 = [4, 3, 6, 9]\n",
        "list3 = [True, False, True]\n",
        "\n",
        "print(list1)\n",
        "print(list2)\n",
        "print(list3)"
      ],
      "metadata": {
        "colab": {
          "base_uri": "https://localhost:8080/"
        },
        "id": "_3ApO22G2-jJ",
        "outputId": "5b347094-c014-4748-ede1-3c6787d3c723"
      },
      "execution_count": null,
      "outputs": [
        {
          "output_type": "stream",
          "name": "stdout",
          "text": [
            "['Gazi', 'Md.', 'Noor', 'Hossain']\n",
            "[4, 3, 6, 9]\n",
            "[True, False, True]\n"
          ]
        }
      ]
    },
    {
      "cell_type": "markdown",
      "source": [
        "A list with strings, integers and boolean values:"
      ],
      "metadata": {
        "id": "ZIKhnJ2T3ifV"
      }
    },
    {
      "cell_type": "code",
      "source": [
        "list1 = [\"Noor\", True, 40, 3.27]\n",
        "\n",
        "print(list1)"
      ],
      "metadata": {
        "colab": {
          "base_uri": "https://localhost:8080/"
        },
        "id": "guF8AMqR3oK5",
        "outputId": "bac12bdb-9008-44cd-c5e7-1a4a712fb9ea"
      },
      "execution_count": null,
      "outputs": [
        {
          "output_type": "stream",
          "name": "stdout",
          "text": [
            "['Noor', True, 40, 3.27]\n"
          ]
        }
      ]
    },
    {
      "cell_type": "markdown",
      "source": [
        "What is the data type of a list?"
      ],
      "metadata": {
        "id": "UK7IVwUw4N2Z"
      }
    },
    {
      "cell_type": "code",
      "source": [
        "mylist = ['Gazi','Md.','Noor','Hossain']\n",
        "print(type(mylist))"
      ],
      "metadata": {
        "colab": {
          "base_uri": "https://localhost:8080/"
        },
        "id": "kzNtPh2s4QxY",
        "outputId": "81642c3d-364a-452e-caf8-5d09b1a40fe0"
      },
      "execution_count": null,
      "outputs": [
        {
          "output_type": "stream",
          "name": "stdout",
          "text": [
            "<class 'list'>\n"
          ]
        }
      ]
    },
    {
      "cell_type": "code",
      "source": [
        "thislist =['Gazi','Md.','Noor','Hossain']\n",
        "print(thislist[-1])"
      ],
      "metadata": {
        "id": "3y6wiZgOA6Ec",
        "outputId": "3ad7b938-16ca-42e4-82d8-9e40f9ae9c37",
        "colab": {
          "base_uri": "https://localhost:8080/"
        }
      },
      "execution_count": null,
      "outputs": [
        {
          "output_type": "stream",
          "name": "stdout",
          "text": [
            "Hossain\n"
          ]
        }
      ]
    },
    {
      "cell_type": "code",
      "source": [
        "mylist = [\"apple\", \"banana\", \"cherry\", \"mango\"]\n",
        "\n",
        "a = \"EDGE Students are from different Institutions not only from MBSTU\"\n",
        "\n",
        "print(\"\\n1) This is String Split: Letter by letter up to index 4\\n\")\n",
        "for i in a[:5]:\n",
        "  print(i)\n",
        "\n",
        "print(\"\\n2) After String Split, now it a list. See all\")\n",
        "\n",
        "b = a.split(\" \")\n",
        "for w in b:\n",
        "  print(w)\n",
        "\n",
        "print(\"\\n3) Printing index 2 to 4 in uppercase\")\n",
        "\n",
        "c = b[2:5]\n",
        "for sw in c:\n",
        "  print(sw.upper())\n"
      ],
      "metadata": {
        "colab": {
          "base_uri": "https://localhost:8080/"
        },
        "id": "mK7Y2u-BXYTE",
        "outputId": "0955e064-2f27-4e02-8079-caf972c16eca"
      },
      "execution_count": null,
      "outputs": [
        {
          "output_type": "stream",
          "name": "stdout",
          "text": [
            "\n",
            "1) This is String Split: Letter by letter up to index 4\n",
            "\n",
            "E\n",
            "D\n",
            "G\n",
            "E\n",
            " \n",
            "\n",
            "2) After String Split, now it a list. See all\n",
            "EDGE\n",
            "Students\n",
            "are\n",
            "from\n",
            "different\n",
            "Institutions\n",
            "not\n",
            "only\n",
            "from\n",
            "MBSTU\n",
            "\n",
            "3) Printing index 2 to 4 in uppercase\n",
            "ARE\n",
            "FROM\n",
            "DIFFERENT\n"
          ]
        }
      ]
    },
    {
      "cell_type": "code",
      "source": [],
      "metadata": {
        "id": "Qm5QAMZZXYSL"
      },
      "execution_count": null,
      "outputs": []
    },
    {
      "cell_type": "code",
      "source": [],
      "metadata": {
        "id": "rDYNpWUtXYPR"
      },
      "execution_count": null,
      "outputs": []
    }
  ]
}