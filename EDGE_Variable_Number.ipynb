{
  "nbformat": 4,
  "nbformat_minor": 0,
  "metadata": {
    "colab": {
      "provenance": [],
      "authorship_tag": "ABX9TyP4841WZZ5T0/Hpqm26+17+",
      "include_colab_link": true
    },
    "kernelspec": {
      "name": "python3",
      "display_name": "Python 3"
    },
    "language_info": {
      "name": "python"
    }
  },
  "cells": [
    {
      "cell_type": "markdown",
      "metadata": {
        "id": "view-in-github",
        "colab_type": "text"
      },
      "source": [
        "<a href=\"https://colab.research.google.com/github/Fnoor68/EDGE_Django/blob/main/EDGE_Variable_Number.ipynb\" target=\"_parent\"><img src=\"https://colab.research.google.com/assets/colab-badge.svg\" alt=\"Open In Colab\"/></a>"
      ]
    },
    {
      "cell_type": "markdown",
      "source": [
        "# **Variable Declaration and Operations**"
      ],
      "metadata": {
        "id": "8YGKncTB87DJ"
      }
    },
    {
      "cell_type": "code",
      "execution_count": 1,
      "metadata": {
        "colab": {
          "base_uri": "https://localhost:8080/"
        },
        "id": "yg57wjkl83N7",
        "outputId": "acce8237-0329-4555-b339-80f2cbc75b57"
      },
      "outputs": [
        {
          "output_type": "stream",
          "name": "stdout",
          "text": [
            "Name: John Type: <class 'str'>\n",
            "Age: 25 Type: <class 'int'>\n",
            "Height: 5.9 Type: <class 'float'>\n",
            "Is Student: True Type: <class 'bool'>\n",
            "Age in 5 years: 30\n",
            "Height in cm: 590.0\n",
            "Eligibility: True\n"
          ]
        }
      ],
      "source": [
        "# Declare variables\n",
        "name = \"John\"\n",
        "age = 25\n",
        "height = 5.9\n",
        "is_student = True\n",
        "\n",
        "# Print variable types\n",
        "print(\"Name:\", name, \"Type:\", type(name))\n",
        "print(\"Age:\", age, \"Type:\", type(age))\n",
        "print(\"Height:\", height, \"Type:\", type(height))\n",
        "print(\"Is Student:\", is_student, \"Type:\", type(is_student))\n",
        "\n",
        "# Perform some operations\n",
        "age_in_5_years = age + 5\n",
        "height_in_cm = height * 100\n",
        "is_eligible = age > 18 and is_student\n",
        "\n",
        "print(\"Age in 5 years:\", age_in_5_years)\n",
        "print(\"Height in cm:\", height_in_cm)\n",
        "print(\"Eligibility:\", is_eligible)"
      ]
    },
    {
      "cell_type": "markdown",
      "source": [
        "# **String Manipulations**"
      ],
      "metadata": {
        "id": "IC-Ad51Z87QZ"
      }
    },
    {
      "cell_type": "code",
      "source": [
        "# String concatenation and methods\n",
        "greeting = \"Hello\"\n",
        "name = \"Alice\"\n",
        "\n",
        "full_greeting = greeting + \", \" + name + \"!\"\n",
        "print(full_greeting)\n",
        "\n",
        "# String methods\n",
        "print(\"Uppercase:\", full_greeting.upper())\n",
        "print(\"Lowercase:\", full_greeting.lower())\n",
        "print(\"Replace:\", full_greeting.replace(\"Alice\", \"Bob\"))\n",
        "print(\"Length:\", len(full_greeting))"
      ],
      "metadata": {
        "colab": {
          "base_uri": "https://localhost:8080/"
        },
        "id": "5TMgj-wE9_9a",
        "outputId": "7ceb77b0-3751-4e5b-b1b5-9f1a523a816b"
      },
      "execution_count": 2,
      "outputs": [
        {
          "output_type": "stream",
          "name": "stdout",
          "text": [
            "Hello, Alice!\n",
            "Uppercase: HELLO, ALICE!\n",
            "Lowercase: hello, alice!\n",
            "Replace: Hello, Bob!\n",
            "Length: 13\n"
          ]
        }
      ]
    },
    {
      "cell_type": "markdown",
      "source": [
        "# **Numbers**"
      ],
      "metadata": {
        "id": "FM7Jlzky87dR"
      }
    },
    {
      "cell_type": "code",
      "source": [
        "# Arithmetic operations\n",
        "a = 10\n",
        "b = 3\n",
        "\n",
        "print(\"Addition:\", a + b)\n",
        "print(\"Subtraction:\", a - b)\n",
        "print(\"Multiplication:\", a * b)\n",
        "print(\"Division:\", a / b)\n",
        "print(\"Floor Division:\", a // b)\n",
        "print(\"Modulus:\", a % b)\n",
        "print(\"Exponentiation:\", a ** b)\n",
        "\n",
        "# Built-in functions\n",
        "import math\n",
        "\n",
        "print(\"Square root of 16:\", math.sqrt(16))\n",
        "print(\"Absolute value of -5:\", abs(-5))\n",
        "print(\"Factorial of 5:\", math.factorial(5))"
      ],
      "metadata": {
        "colab": {
          "base_uri": "https://localhost:8080/"
        },
        "id": "QuRBtMmb-AKN",
        "outputId": "00e94b83-2b84-4376-fb21-eee5268262b1"
      },
      "execution_count": 3,
      "outputs": [
        {
          "output_type": "stream",
          "name": "stdout",
          "text": [
            "Addition: 13\n",
            "Subtraction: 7\n",
            "Multiplication: 30\n",
            "Division: 3.3333333333333335\n",
            "Floor Division: 3\n",
            "Modulus: 1\n",
            "Exponentiation: 1000\n",
            "Square root of 16: 4.0\n",
            "Absolute value of -5: 5\n",
            "Factorial of 5: 120\n"
          ]
        }
      ]
    },
    {
      "cell_type": "markdown",
      "source": [
        "# **Data Types Practice**"
      ],
      "metadata": {
        "id": "PUHWhiKZ87pv"
      }
    },
    {
      "cell_type": "code",
      "source": [
        "# List\n",
        "fruits = [\"apple\", \"banana\", \"cherry\"]\n",
        "print(\"Fruits list:\", fruits)\n",
        "print(\"First fruit:\", fruits[0])\n",
        "\n",
        "# Tuple\n",
        "coordinates = (10.5, 20.3)\n",
        "print(\"Coordinates tuple:\", coordinates)\n",
        "\n",
        "# Dictionary\n",
        "person = {\"name\": \"Bob\", \"age\": 30, \"city\": \"New York\"}\n",
        "print(\"Person dictionary:\", person)\n",
        "print(\"Name:\", person[\"name\"])\n",
        "\n",
        "# Set\n",
        "unique_numbers = {1, 2, 3, 3, 2}\n",
        "print(\"Unique numbers set:\", unique_numbers)"
      ],
      "metadata": {
        "colab": {
          "base_uri": "https://localhost:8080/"
        },
        "id": "109ROkZi-AWi",
        "outputId": "383aefbb-2d2c-435b-fff2-e1a73d85f069"
      },
      "execution_count": 4,
      "outputs": [
        {
          "output_type": "stream",
          "name": "stdout",
          "text": [
            "Fruits list: ['apple', 'banana', 'cherry']\n",
            "First fruit: apple\n",
            "Coordinates tuple: (10.5, 20.3)\n",
            "Person dictionary: {'name': 'Bob', 'age': 30, 'city': 'New York'}\n",
            "Name: Bob\n",
            "Unique numbers set: {1, 2, 3}\n"
          ]
        }
      ]
    },
    {
      "cell_type": "markdown",
      "source": [
        "# **Conditional Statements**"
      ],
      "metadata": {
        "id": "0mnQb23s870u"
      }
    },
    {
      "cell_type": "code",
      "source": [
        "# If-else example\n",
        "num = 15\n",
        "\n",
        "if num % 2 == 0:\n",
        "    print(f\"{num} is even\")\n",
        "else:\n",
        "    print(f\"{num} is odd\")"
      ],
      "metadata": {
        "colab": {
          "base_uri": "https://localhost:8080/"
        },
        "id": "9WI1UlDJ-Ai9",
        "outputId": "fd78cfb3-43a3-4825-d910-782161e8c3cd"
      },
      "execution_count": 5,
      "outputs": [
        {
          "output_type": "stream",
          "name": "stdout",
          "text": [
            "15 is odd\n"
          ]
        }
      ]
    },
    {
      "cell_type": "markdown",
      "source": [
        "# **Loops with Data Types**"
      ],
      "metadata": {
        "id": "C-Y7FDS49gpw"
      }
    },
    {
      "cell_type": "code",
      "source": [
        "# For loop with a list\n",
        "for fruit in fruits:\n",
        "    print(\"Fruit:\", fruit)\n",
        "\n",
        "# While loop\n",
        "count = 5\n",
        "while count > 0:\n",
        "    print(\"Count:\", count)\n",
        "    count -= 1"
      ],
      "metadata": {
        "colab": {
          "base_uri": "https://localhost:8080/"
        },
        "id": "lAiMSeBi-AvI",
        "outputId": "47292001-f6a5-46bd-8da2-1f80baf69a8d"
      },
      "execution_count": 6,
      "outputs": [
        {
          "output_type": "stream",
          "name": "stdout",
          "text": [
            "Fruit: apple\n",
            "Fruit: banana\n",
            "Fruit: cherry\n",
            "Count: 5\n",
            "Count: 4\n",
            "Count: 3\n",
            "Count: 2\n",
            "Count: 1\n"
          ]
        }
      ]
    },
    {
      "cell_type": "markdown",
      "source": [
        "# **Type Conversion**"
      ],
      "metadata": {
        "id": "mgN4WI9A9hAp"
      }
    },
    {
      "cell_type": "code",
      "source": [
        "# Type casting\n",
        "num_str = \"100\"\n",
        "num_int = int(num_str)\n",
        "print(\"String to Integer:\", num_int, \"Type:\", type(num_int))\n",
        "\n",
        "num_float = float(num_int)\n",
        "print(\"Integer to Float:\", num_float, \"Type:\", type(num_float))\n",
        "\n",
        "num_to_str = str(num_float)\n",
        "print(\"Float to String:\", num_to_str, \"Type:\", type(num_to_str))\n"
      ],
      "metadata": {
        "colab": {
          "base_uri": "https://localhost:8080/"
        },
        "id": "QjWmMuFq-Bg3",
        "outputId": "f87f86a2-54e5-4fa1-9f46-4272aac10561"
      },
      "execution_count": 7,
      "outputs": [
        {
          "output_type": "stream",
          "name": "stdout",
          "text": [
            "String to Integer: 100 Type: <class 'int'>\n",
            "Integer to Float: 100.0 Type: <class 'float'>\n",
            "Float to String: 100.0 Type: <class 'str'>\n"
          ]
        }
      ]
    }
  ]
}